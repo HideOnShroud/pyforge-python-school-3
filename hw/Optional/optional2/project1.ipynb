{
  "nbformat": 4,
  "nbformat_minor": 0,
  "metadata": {
    "colab": {
      "provenance": []
    },
    "kernelspec": {
      "name": "python3",
      "display_name": "Python 3"
    },
    "language_info": {
      "name": "python"
    }
  },
  "cells": [
    {
      "cell_type": "code",
      "source": [
        "import pandas as pd"
      ],
      "metadata": {
        "id": "QY6OvNBevLrK"
      },
      "execution_count": null,
      "outputs": []
    },
    {
      "cell_type": "code",
      "source": [
        "# creating data and dataFrame\n",
        "experiments_data = {\n",
        "    'experiment_id': [1, 1, 1],\n",
        "    'experiment_name': ['exp1', 'exp1', 'exp1'],\n",
        "    'property_name': ['concentration_unit', 'channel', 'experiment_type'],\n",
        "    'property_value': ['ul', '1', 'type_a']\n",
        "}\n",
        "plates_data = {\n",
        "    'plate_id': [1, 1, 2, 2],\n",
        "    'experiment_id': [1, 1, 1, 1],\n",
        "    'plate_name': ['plate1', 'plate1', 'plate2', 'plate2'],\n",
        "    'property_name': ['concentration', 'channel', 'concentration', 'channel'],\n",
        "    'property_value': ['5', '1', '10', '2']\n",
        "}\n",
        "wells_data = {\n",
        "    'well_id': [1, 2, 3, 4, 5, 6],\n",
        "    'plate_id': [1, 1, 1, 1, 2, 2],\n",
        "    'well_row': [1, 1, 1, 1, 2, 2],\n",
        "    'well_column': [1, 2, 3, 4, 1, 2],\n",
        "    'property_name': ['concentration', 'concentration', 'concentration', 'type', 'type', 'channel'],\n",
        "    'property_value': ['1', '2', '3', 'A', 'B', '2']\n",
        "}"
      ],
      "metadata": {
        "id": "oBtE4nWEvsoX"
      },
      "execution_count": null,
      "outputs": []
    },
    {
      "cell_type": "code",
      "source": [
        "experiments_df = pd.DataFrame(experiments_data)\n",
        "plates_df = pd.DataFrame(plates_data)\n",
        "wells_df = pd.DataFrame(wells_data)"
      ],
      "metadata": {
        "id": "Uf_1rVdNvvmx"
      },
      "execution_count": null,
      "outputs": []
    },
    {
      "cell_type": "code",
      "source": [
        "# Pivot the DataFrames\n",
        "experiments_pivot = experiments_df.pivot_table(index='experiment_id', columns='property_name', values='property_value', aggfunc='first').reset_index()\n",
        "plates_pivot = plates_df.pivot_table(index=['plate_id', 'experiment_id'], columns='property_name', values='property_value', aggfunc='first').reset_index()\n",
        "wells_pivot = wells_df.pivot_table(index=['well_id', 'plate_id', 'well_row', 'well_column'], columns='property_name', values='property_value', aggfunc='first').reset_index()"
      ],
      "metadata": {
        "id": "g_9Ybq3Gv7LH"
      },
      "execution_count": null,
      "outputs": []
    },
    {
      "cell_type": "code",
      "source": [
        "# Merging\n",
        "merged_wells_plates = wells_pivot.merge(plates_pivot, on='plate_id', suffixes=('', '_plate'), how='left')\n",
        "final_df = merged_wells_plates.merge(experiments_pivot, on='experiment_id', suffixes=('', '_experiment'), how='left')"
      ],
      "metadata": {
        "id": "s6T8B9IWv9ai"
      },
      "execution_count": null,
      "outputs": []
    },
    {
      "cell_type": "code",
      "source": [
        "# Filling missing values with data from higher levels (plate and experiment), keeping the lower level data when available\n",
        "for col in wells_pivot.columns:\n",
        "    if col not in ['well_id', 'plate_id', 'well_row', 'well_column']:\n",
        "        plate_col = col + '_plate'\n",
        "        experiment_col = col + '_experiment'\n",
        "\n",
        "        if plate_col in final_df.columns and experiment_col in final_df.columns:\n",
        "            final_df[col] = final_df[col].combine_first(final_df[plate_col]).combine_first(final_df[experiment_col])\n",
        "            final_df.drop([plate_col, experiment_col], axis=1, inplace=True)\n",
        "        elif plate_col in final_df.columns:\n",
        "            final_df[col] = final_df[col].combine_first(final_df[plate_col])\n",
        "            final_df.drop([plate_col], axis=1, inplace=True)\n",
        "        elif experiment_col in final_df.columns:\n",
        "            final_df[col] = final_df[col].combine_first(final_df[experiment_col])\n",
        "            final_df.drop([experiment_col], axis=1, inplace=True)"
      ],
      "metadata": {
        "id": "5WvEm7rQwEtA"
      },
      "execution_count": null,
      "outputs": []
    },
    {
      "cell_type": "code",
      "source": [
        "# Saving results as excel\n",
        "final_df.to_excel('well_properties.xlsx', index=False)"
      ],
      "metadata": {
        "id": "uYNjWF7IwGvr"
      },
      "execution_count": null,
      "outputs": []
    },
    {
      "cell_type": "code",
      "source": [],
      "metadata": {
        "id": "5agWogXkwutn"
      },
      "execution_count": null,
      "outputs": []
    }
  ]
}